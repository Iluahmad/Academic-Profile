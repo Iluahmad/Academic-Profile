{
 "cells": [
  {
   "cell_type": "code",
   "execution_count": 11,
   "id": "4a4abd77-207d-43f3-82ee-fb291dd1b340",
   "metadata": {},
   "outputs": [
    {
     "name": "stdout",
     "output_type": "stream",
     "text": [
      "22\n"
     ]
    }
   ],
   "source": [
    "    X = 22\n",
    "print(X)"
   ]
  },
  {
   "cell_type": "code",
   "execution_count": 13,
   "id": "e55e4300-e4ad-46aa-bb74-b53626dba441",
   "metadata": {},
   "outputs": [
    {
     "data": {
      "text/plain": [
       "int"
      ]
     },
     "execution_count": 13,
     "metadata": {},
     "output_type": "execute_result"
    }
   ],
   "source": [
    "type(X)"
   ]
  },
  {
   "cell_type": "code",
   "execution_count": 15,
   "id": "b3b9df92-08cd-4ca3-915d-0a961592908e",
   "metadata": {},
   "outputs": [
    {
     "name": "stdout",
     "output_type": "stream",
     "text": [
      "Mint Chocolate Chip\n"
     ]
    }
   ],
   "source": [
    "y= 'Mint Chocolate Chip'\n",
    "print(y)"
   ]
  },
  {
   "cell_type": "code",
   "execution_count": 17,
   "id": "c7ff2919-1f84-48d2-b406-def29cf91778",
   "metadata": {},
   "outputs": [
    {
     "data": {
      "text/plain": [
       "str"
      ]
     },
     "execution_count": 17,
     "metadata": {},
     "output_type": "execute_result"
    }
   ],
   "source": [
    "type(y)"
   ]
  },
  {
   "cell_type": "code",
   "execution_count": 23,
   "id": "6aff521b-1c08-46ae-8156-f46c4f4810cf",
   "metadata": {},
   "outputs": [
    {
     "name": "stdout",
     "output_type": "stream",
     "text": [
      "Mint Chocolate Chip\n"
     ]
    }
   ],
   "source": [
    "y = 'Chocolate'\n",
    "y= 'Mint Chocolate Chip'\n",
    "print(y)"
   ]
  },
  {
   "cell_type": "code",
   "execution_count": 31,
   "id": "d5a9a9c0-6e95-4771-93e9-0eea6322f8a5",
   "metadata": {},
   "outputs": [
    {
     "name": "stdout",
     "output_type": "stream",
     "text": [
      "Chocolate\n",
      "Vanilla\n",
      "Strawberry\n"
     ]
    }
   ],
   "source": [
    "x,y,z = 'Chocolate', 'Vanilla', 'Strawberry'\n",
    "print(x)\n",
    "print(y)\n",
    "print(z)"
   ]
  },
  {
   "cell_type": "code",
   "execution_count": 33,
   "id": "412a1336-c64d-44ae-8bf0-cabb3b72fa46",
   "metadata": {},
   "outputs": [
    {
     "name": "stdout",
     "output_type": "stream",
     "text": [
      "Banana\n",
      "Banana\n",
      "Banana\n"
     ]
    }
   ],
   "source": [
    "x = y = z = 'Banana'\n",
    "print(x)\n",
    "print(y)\n",
    "print(z)"
   ]
  },
  {
   "cell_type": "code",
   "execution_count": 35,
   "id": "6f679f10-5c0a-4507-846b-50df928f2883",
   "metadata": {},
   "outputs": [
    {
     "name": "stdout",
     "output_type": "stream",
     "text": [
      "Chocolate\n",
      "Vanilla\n",
      "Strawberry\n"
     ]
    }
   ],
   "source": [
    "cream = ['Chocolate', 'Vanilla', 'Strawberry']\n",
    "x,y,z = cream\n",
    "print(x)\n",
    "print(y)\n",
    "print(z)"
   ]
  },
  {
   "cell_type": "code",
   "execution_count": null,
   "id": "61355a6b-e8f5-4cae-9c1d-19a8b6137808",
   "metadata": {},
   "outputs": [],
   "source": [
    "# Camel Case\n",
    "#Test Variable Case\n",
    "testVariableCase = 'Vanilla Swirl'"
   ]
  },
  {
   "cell_type": "code",
   "execution_count": null,
   "id": "1da5a912-4c88-42d4-9cbd-1b084eb0f520",
   "metadata": {},
   "outputs": [],
   "source": [
    "# Pascal Case\n",
    "#Test Variable Case\n",
    "TestvariableCase = 'Vanilla Swirl'"
   ]
  },
  {
   "cell_type": "code",
   "execution_count": null,
   "id": "9f367306-574a-46c2-a375-9a91f5b97fdd",
   "metadata": {},
   "outputs": [],
   "source": [
    "# Snake Case\n",
    "#Test Variable Case\n",
    "test_variable_Case = 'Vanilla Swirl'"
   ]
  },
  {
   "cell_type": "code",
   "execution_count": 37,
   "id": "55b76e0a-ac32-4257-9c50-c44c0639b559",
   "metadata": {},
   "outputs": [
    {
     "name": "stdout",
     "output_type": "stream",
     "text": [
      "Ice Cream is my favorite.\n"
     ]
    }
   ],
   "source": [
    "x = 'Ice Cream is my favorite' + '.'\n",
    "print(x)"
   ]
  },
  {
   "cell_type": "code",
   "execution_count": 39,
   "id": "e3920383-8e7b-4d37-8038-1f82897c8a5f",
   "metadata": {},
   "outputs": [
    {
     "name": "stdout",
     "output_type": "stream",
     "text": [
      "5\n"
     ]
    }
   ],
   "source": [
    "y = 3 + 2\n",
    "print(y)"
   ]
  },
  {
   "cell_type": "code",
   "execution_count": 43,
   "id": "6da7f15f-43b2-4d45-a14a-634f0bc1643f",
   "metadata": {},
   "outputs": [
    {
     "name": "stdout",
     "output_type": "stream",
     "text": [
      "Ice Cream is my favorite\n"
     ]
    }
   ],
   "source": [
    "x = 'Ice Cream'\n",
    "y= ' is'\n",
    "z= ' my favorite'\n",
    "print(x+y+z)"
   ]
  },
  {
   "cell_type": "code",
   "execution_count": 47,
   "id": "80de7bda-b372-48ab-9728-495feb7c8466",
   "metadata": {},
   "outputs": [],
   "source": [
    "# Data Types "
   ]
  },
  {
   "cell_type": "markdown",
   "id": "35f51782-5cf1-42c6-b827-050576dda423",
   "metadata": {},
   "source": [
    "type(12)"
   ]
  },
  {
   "cell_type": "code",
   "execution_count": 54,
   "id": "2462ba5c-8363-4796-81e3-94f4bc4dc685",
   "metadata": {},
   "outputs": [
    {
     "data": {
      "text/plain": [
       "int"
      ]
     },
     "execution_count": 54,
     "metadata": {},
     "output_type": "execute_result"
    }
   ],
   "source": [
    "type(12)"
   ]
  },
  {
   "cell_type": "code",
   "execution_count": 56,
   "id": "b5c91feb-29d3-4be3-b097-91abd6c82017",
   "metadata": {},
   "outputs": [
    {
     "data": {
      "text/plain": [
       "bool"
      ]
     },
     "execution_count": 56,
     "metadata": {},
     "output_type": "execute_result"
    }
   ],
   "source": [
    "#Boolean\n",
    "type(1>2) "
   ]
  },
  {
   "cell_type": "code",
   "execution_count": 3,
   "id": "5f9a7d4e-f0c4-4f99-ac74-a68a1324cc84",
   "metadata": {},
   "outputs": [
    {
     "data": {
      "text/plain": [
       "False"
      ]
     },
     "execution_count": 3,
     "metadata": {},
     "output_type": "execute_result"
    }
   ],
   "source": [
    "4 > 5"
   ]
  },
  {
   "cell_type": "code",
   "execution_count": 5,
   "id": "e8dbed6e-66cb-49a3-91b2-87ad5c6dffae",
   "metadata": {},
   "outputs": [],
   "source": [
    "# Working Pandas"
   ]
  },
  {
   "cell_type": "code",
   "execution_count": 7,
   "id": "842c45af-f84a-426f-8e54-c81b5d724996",
   "metadata": {},
   "outputs": [],
   "source": [
    "import pandas as pd"
   ]
  },
  {
   "cell_type": "code",
   "execution_count": null,
   "id": "de2bc7cd-df8a-4842-8c3d-dde67cfe53e9",
   "metadata": {},
   "outputs": [],
   "source": [
    "pd.read_csv(r\"\")"
   ]
  },
  {
   "cell_type": "code",
   "execution_count": 21,
   "id": "bb165126-3609-4f49-a543-24eff0f344ad",
   "metadata": {},
   "outputs": [],
   "source": [
    "df=pd.read_excel(r\"C:\\Users\\Ahmad Ilu\\Downloads\\food_Prices.xlsx\", sheet_name=\"Sheet2\")"
   ]
  },
  {
   "cell_type": "code",
   "execution_count": 23,
   "id": "3a176e14-3ead-4783-ba38-f9702d86df03",
   "metadata": {},
   "outputs": [
    {
     "data": {
      "text/html": [
       "<div>\n",
       "<style scoped>\n",
       "    .dataframe tbody tr th:only-of-type {\n",
       "        vertical-align: middle;\n",
       "    }\n",
       "\n",
       "    .dataframe tbody tr th {\n",
       "        vertical-align: top;\n",
       "    }\n",
       "\n",
       "    .dataframe thead th {\n",
       "        text-align: right;\n",
       "    }\n",
       "</style>\n",
       "<table border=\"1\" class=\"dataframe\">\n",
       "  <thead>\n",
       "    <tr style=\"text-align: right;\">\n",
       "      <th></th>\n",
       "      <th>Item</th>\n",
       "      <th>Price</th>\n",
       "    </tr>\n",
       "  </thead>\n",
       "  <tbody>\n",
       "    <tr>\n",
       "      <th>0</th>\n",
       "      <td>Frozen chicken, 1 unit</td>\n",
       "      <td>4829.13</td>\n",
       "    </tr>\n",
       "    <tr>\n",
       "      <th>1</th>\n",
       "      <td>Beef, boneless, 1kgS</td>\n",
       "      <td>4711.65</td>\n",
       "    </tr>\n",
       "    <tr>\n",
       "      <th>2</th>\n",
       "      <td>Rice, medium grained, 1kg</td>\n",
       "      <td>1535.83</td>\n",
       "    </tr>\n",
       "    <tr>\n",
       "      <th>3</th>\n",
       "      <td>Rice, agric, sold loose,1 kg</td>\n",
       "      <td>1487.91</td>\n",
       "    </tr>\n",
       "    <tr>\n",
       "      <th>4</th>\n",
       "      <td>Irish potato, 1kg</td>\n",
       "      <td>1413.57</td>\n",
       "    </tr>\n",
       "    <tr>\n",
       "      <th>5</th>\n",
       "      <td>Rice, local, sold loose, 1kg</td>\n",
       "      <td>1399.34</td>\n",
       "    </tr>\n",
       "    <tr>\n",
       "      <th>6</th>\n",
       "      <td>Beans brown, sold loose, 1kg</td>\n",
       "      <td>1387.90</td>\n",
       "    </tr>\n",
       "    <tr>\n",
       "      <th>7</th>\n",
       "      <td>Beans, white black eye, sold loose, 1kg</td>\n",
       "      <td>1313.48</td>\n",
       "    </tr>\n",
       "    <tr>\n",
       "      <th>8</th>\n",
       "      <td>Bread sliced 500g</td>\n",
       "      <td>1141.36</td>\n",
       "    </tr>\n",
       "    <tr>\n",
       "      <th>9</th>\n",
       "      <td>Yam tuber, 1kg</td>\n",
       "      <td>1130.37</td>\n",
       "    </tr>\n",
       "    <tr>\n",
       "      <th>10</th>\n",
       "      <td>Tomato 1kg</td>\n",
       "      <td>1123.41</td>\n",
       "    </tr>\n",
       "    <tr>\n",
       "      <th>11</th>\n",
       "      <td>Bread unsliced 500g</td>\n",
       "      <td>1092.40</td>\n",
       "    </tr>\n",
       "    <tr>\n",
       "      <th>12</th>\n",
       "      <td>Onion bulb, 1kg</td>\n",
       "      <td>1018.83</td>\n",
       "    </tr>\n",
       "    <tr>\n",
       "      <th>13</th>\n",
       "      <td>Plantain (ripe), 1kg</td>\n",
       "      <td>1009.05</td>\n",
       "    </tr>\n",
       "    <tr>\n",
       "      <th>14</th>\n",
       "      <td>Plantain (unripe), 1kg</td>\n",
       "      <td>1000.41</td>\n",
       "    </tr>\n",
       "    <tr>\n",
       "      <th>15</th>\n",
       "      <td>Gari yellow, sold loose, 1kg</td>\n",
       "      <td>909.77</td>\n",
       "    </tr>\n",
       "    <tr>\n",
       "      <th>16</th>\n",
       "      <td>Gari white, sold loose, 1kg</td>\n",
       "      <td>851.81</td>\n",
       "    </tr>\n",
       "    <tr>\n",
       "      <th>17</th>\n",
       "      <td>Sweet potato, 1kg</td>\n",
       "      <td>807.35</td>\n",
       "    </tr>\n",
       "    <tr>\n",
       "      <th>18</th>\n",
       "      <td>Maize grain yellow sold loose, 1kg</td>\n",
       "      <td>798.53</td>\n",
       "    </tr>\n",
       "    <tr>\n",
       "      <th>19</th>\n",
       "      <td>Maize grain white sold loose, 1kg</td>\n",
       "      <td>797.61</td>\n",
       "    </tr>\n",
       "    <tr>\n",
       "      <th>20</th>\n",
       "      <td>Evaporated tinned milk (peak), 170g</td>\n",
       "      <td>725.74</td>\n",
       "    </tr>\n",
       "    <tr>\n",
       "      <th>21</th>\n",
       "      <td>Evaporated tinned milk carnation 170g</td>\n",
       "      <td>643.11</td>\n",
       "    </tr>\n",
       "    <tr>\n",
       "      <th>22</th>\n",
       "      <td>Agric eggs (medium size price of one), 1 piece</td>\n",
       "      <td>150.85</td>\n",
       "    </tr>\n",
       "    <tr>\n",
       "      <th>23</th>\n",
       "      <td>Groundnut oil, 1 bottle, 1l</td>\n",
       "      <td>2231.82</td>\n",
       "    </tr>\n",
       "  </tbody>\n",
       "</table>\n",
       "</div>"
      ],
      "text/plain": [
       "                                              Item    Price\n",
       "0                           Frozen chicken, 1 unit  4829.13\n",
       "1                             Beef, boneless, 1kgS  4711.65\n",
       "2                        Rice, medium grained, 1kg  1535.83\n",
       "3                     Rice, agric, sold loose,1 kg  1487.91\n",
       "4                                Irish potato, 1kg  1413.57\n",
       "5                     Rice, local, sold loose, 1kg  1399.34\n",
       "6                     Beans brown, sold loose, 1kg  1387.90\n",
       "7          Beans, white black eye, sold loose, 1kg  1313.48\n",
       "8                                Bread sliced 500g  1141.36\n",
       "9                                   Yam tuber, 1kg  1130.37\n",
       "10                                      Tomato 1kg  1123.41\n",
       "11                             Bread unsliced 500g  1092.40\n",
       "12                                 Onion bulb, 1kg  1018.83\n",
       "13                            Plantain (ripe), 1kg  1009.05\n",
       "14                          Plantain (unripe), 1kg  1000.41\n",
       "15                    Gari yellow, sold loose, 1kg   909.77\n",
       "16                     Gari white, sold loose, 1kg   851.81\n",
       "17                               Sweet potato, 1kg   807.35\n",
       "18              Maize grain yellow sold loose, 1kg   798.53\n",
       "19               Maize grain white sold loose, 1kg   797.61\n",
       "20             Evaporated tinned milk (peak), 170g   725.74\n",
       "21           Evaporated tinned milk carnation 170g   643.11\n",
       "22  Agric eggs (medium size price of one), 1 piece   150.85\n",
       "23                     Groundnut oil, 1 bottle, 1l  2231.82"
      ]
     },
     "execution_count": 23,
     "metadata": {},
     "output_type": "execute_result"
    }
   ],
   "source": [
    "df"
   ]
  },
  {
   "cell_type": "code",
   "execution_count": 25,
   "id": "1db2831c-ac40-4a8a-b470-af91293b9e0a",
   "metadata": {},
   "outputs": [
    {
     "name": "stdout",
     "output_type": "stream",
     "text": [
      "<class 'pandas.core.frame.DataFrame'>\n",
      "RangeIndex: 24 entries, 0 to 23\n",
      "Data columns (total 2 columns):\n",
      " #   Column  Non-Null Count  Dtype  \n",
      "---  ------  --------------  -----  \n",
      " 0   Item    24 non-null     object \n",
      " 1   Price   24 non-null     float64\n",
      "dtypes: float64(1), object(1)\n",
      "memory usage: 516.0+ bytes\n"
     ]
    }
   ],
   "source": [
    "df.info()"
   ]
  },
  {
   "cell_type": "code",
   "execution_count": 27,
   "id": "0a1e06bc-0fc7-45a3-ab7b-1b333626c6a2",
   "metadata": {},
   "outputs": [
    {
     "data": {
      "text/plain": [
       "(24, 2)"
      ]
     },
     "execution_count": 27,
     "metadata": {},
     "output_type": "execute_result"
    }
   ],
   "source": [
    "df.shape"
   ]
  },
  {
   "cell_type": "code",
   "execution_count": 29,
   "id": "b1542fde-07ec-4bca-81a2-c476ffc380f2",
   "metadata": {},
   "outputs": [
    {
     "data": {
      "text/plain": [
       "Item     Agric eggs (medium size price of one), 1 piece\n",
       "Price                                            150.85\n",
       "Name: 22, dtype: object"
      ]
     },
     "execution_count": 29,
     "metadata": {},
     "output_type": "execute_result"
    }
   ],
   "source": [
    "df.loc[22]"
   ]
  },
  {
   "cell_type": "code",
   "execution_count": 31,
   "id": "be99f16d-1237-490b-b80b-8ad48e615da3",
   "metadata": {},
   "outputs": [],
   "source": [
    "#Filtering and Ordering"
   ]
  },
  {
   "cell_type": "code",
   "execution_count": 45,
   "id": "e2a1fe06-c158-4b1a-84dd-1f257c3afb33",
   "metadata": {},
   "outputs": [
    {
     "data": {
      "text/html": [
       "<div>\n",
       "<style scoped>\n",
       "    .dataframe tbody tr th:only-of-type {\n",
       "        vertical-align: middle;\n",
       "    }\n",
       "\n",
       "    .dataframe tbody tr th {\n",
       "        vertical-align: top;\n",
       "    }\n",
       "\n",
       "    .dataframe thead th {\n",
       "        text-align: right;\n",
       "    }\n",
       "</style>\n",
       "<table border=\"1\" class=\"dataframe\">\n",
       "  <thead>\n",
       "    <tr style=\"text-align: right;\">\n",
       "      <th></th>\n",
       "      <th>Item</th>\n",
       "      <th>Price</th>\n",
       "    </tr>\n",
       "  </thead>\n",
       "  <tbody>\n",
       "    <tr>\n",
       "      <th>15</th>\n",
       "      <td>Gari yellow, sold loose, 1kg</td>\n",
       "      <td>909.77</td>\n",
       "    </tr>\n",
       "    <tr>\n",
       "      <th>16</th>\n",
       "      <td>Gari white, sold loose, 1kg</td>\n",
       "      <td>851.81</td>\n",
       "    </tr>\n",
       "    <tr>\n",
       "      <th>17</th>\n",
       "      <td>Sweet potato, 1kg</td>\n",
       "      <td>807.35</td>\n",
       "    </tr>\n",
       "    <tr>\n",
       "      <th>18</th>\n",
       "      <td>Maize grain yellow sold loose, 1kg</td>\n",
       "      <td>798.53</td>\n",
       "    </tr>\n",
       "    <tr>\n",
       "      <th>19</th>\n",
       "      <td>Maize grain white sold loose, 1kg</td>\n",
       "      <td>797.61</td>\n",
       "    </tr>\n",
       "    <tr>\n",
       "      <th>20</th>\n",
       "      <td>Evaporated tinned milk (peak), 170g</td>\n",
       "      <td>725.74</td>\n",
       "    </tr>\n",
       "    <tr>\n",
       "      <th>21</th>\n",
       "      <td>Evaporated tinned milk carnation 170g</td>\n",
       "      <td>643.11</td>\n",
       "    </tr>\n",
       "    <tr>\n",
       "      <th>22</th>\n",
       "      <td>Agric eggs (medium size price of one), 1 piece</td>\n",
       "      <td>150.85</td>\n",
       "    </tr>\n",
       "  </tbody>\n",
       "</table>\n",
       "</div>"
      ],
      "text/plain": [
       "                                              Item   Price\n",
       "15                    Gari yellow, sold loose, 1kg  909.77\n",
       "16                     Gari white, sold loose, 1kg  851.81\n",
       "17                               Sweet potato, 1kg  807.35\n",
       "18              Maize grain yellow sold loose, 1kg  798.53\n",
       "19               Maize grain white sold loose, 1kg  797.61\n",
       "20             Evaporated tinned milk (peak), 170g  725.74\n",
       "21           Evaporated tinned milk carnation 170g  643.11\n",
       "22  Agric eggs (medium size price of one), 1 piece  150.85"
      ]
     },
     "execution_count": 45,
     "metadata": {},
     "output_type": "execute_result"
    }
   ],
   "source": [
    "df[df['Price']<1000]"
   ]
  },
  {
   "cell_type": "code",
   "execution_count": 49,
   "id": "ff5b315c-8ae6-4d7c-ad71-89abd07d49df",
   "metadata": {},
   "outputs": [
    {
     "data": {
      "text/plain": [
       "0     4829.13\n",
       "1     4711.65\n",
       "2     1535.83\n",
       "3     1487.91\n",
       "4     1413.57\n",
       "5     1399.34\n",
       "6     1387.90\n",
       "7     1313.48\n",
       "8     1141.36\n",
       "9     1130.37\n",
       "10    1123.41\n",
       "11    1092.40\n",
       "12    1018.83\n",
       "13    1009.05\n",
       "14    1000.41\n",
       "15     909.77\n",
       "16     851.81\n",
       "17     807.35\n",
       "18     798.53\n",
       "19     797.61\n",
       "20     725.74\n",
       "21     643.11\n",
       "22     150.85\n",
       "23    2231.82\n",
       "Name: Price, dtype: float64"
      ]
     },
     "execution_count": 49,
     "metadata": {},
     "output_type": "execute_result"
    }
   ],
   "source": [
    "df['Price']"
   ]
  },
  {
   "cell_type": "code",
   "execution_count": 57,
   "id": "cbd551e8-cf6b-4e96-947f-63dc7bab0f91",
   "metadata": {},
   "outputs": [
    {
     "data": {
      "text/html": [
       "<div>\n",
       "<style scoped>\n",
       "    .dataframe tbody tr th:only-of-type {\n",
       "        vertical-align: middle;\n",
       "    }\n",
       "\n",
       "    .dataframe tbody tr th {\n",
       "        vertical-align: top;\n",
       "    }\n",
       "\n",
       "    .dataframe thead th {\n",
       "        text-align: right;\n",
       "    }\n",
       "</style>\n",
       "<table border=\"1\" class=\"dataframe\">\n",
       "  <thead>\n",
       "    <tr style=\"text-align: right;\">\n",
       "      <th></th>\n",
       "      <th>Item</th>\n",
       "      <th>Price</th>\n",
       "    </tr>\n",
       "  </thead>\n",
       "  <tbody>\n",
       "    <tr>\n",
       "      <th>5</th>\n",
       "      <td>Rice, local, sold loose, 1kg</td>\n",
       "      <td>1399.34</td>\n",
       "    </tr>\n",
       "    <tr>\n",
       "      <th>13</th>\n",
       "      <td>Plantain (ripe), 1kg</td>\n",
       "      <td>1009.05</td>\n",
       "    </tr>\n",
       "    <tr>\n",
       "      <th>17</th>\n",
       "      <td>Sweet potato, 1kg</td>\n",
       "      <td>807.35</td>\n",
       "    </tr>\n",
       "  </tbody>\n",
       "</table>\n",
       "</div>"
      ],
      "text/plain": [
       "                            Item    Price\n",
       "5   Rice, local, sold loose, 1kg  1399.34\n",
       "13          Plantain (ripe), 1kg  1009.05\n",
       "17             Sweet potato, 1kg   807.35"
      ]
     },
     "execution_count": 57,
     "metadata": {},
     "output_type": "execute_result"
    }
   ],
   "source": [
    "specific_commodities = ['Plantain (ripe), 1kg','Sweet potato, 1kg', 'Rice, local, sold loose, 1kg']\n",
    "df[df['Item'].isin(specific_commodities)]\n"
   ]
  },
  {
   "cell_type": "code",
   "execution_count": 65,
   "id": "f6f612fd-e748-4378-b430-af2e690e01ac",
   "metadata": {},
   "outputs": [
    {
     "data": {
      "text/html": [
       "<div>\n",
       "<style scoped>\n",
       "    .dataframe tbody tr th:only-of-type {\n",
       "        vertical-align: middle;\n",
       "    }\n",
       "\n",
       "    .dataframe tbody tr th {\n",
       "        vertical-align: top;\n",
       "    }\n",
       "\n",
       "    .dataframe thead th {\n",
       "        text-align: right;\n",
       "    }\n",
       "</style>\n",
       "<table border=\"1\" class=\"dataframe\">\n",
       "  <thead>\n",
       "    <tr style=\"text-align: right;\">\n",
       "      <th></th>\n",
       "      <th>Item</th>\n",
       "      <th>Price</th>\n",
       "    </tr>\n",
       "  </thead>\n",
       "  <tbody>\n",
       "    <tr>\n",
       "      <th>2</th>\n",
       "      <td>Rice, medium grained, 1kg</td>\n",
       "      <td>1535.83</td>\n",
       "    </tr>\n",
       "    <tr>\n",
       "      <th>3</th>\n",
       "      <td>Rice, agric, sold loose,1 kg</td>\n",
       "      <td>1487.91</td>\n",
       "    </tr>\n",
       "    <tr>\n",
       "      <th>5</th>\n",
       "      <td>Rice, local, sold loose, 1kg</td>\n",
       "      <td>1399.34</td>\n",
       "    </tr>\n",
       "  </tbody>\n",
       "</table>\n",
       "</div>"
      ],
      "text/plain": [
       "                           Item    Price\n",
       "2     Rice, medium grained, 1kg  1535.83\n",
       "3  Rice, agric, sold loose,1 kg  1487.91\n",
       "5  Rice, local, sold loose, 1kg  1399.34"
      ]
     },
     "execution_count": 65,
     "metadata": {},
     "output_type": "execute_result"
    }
   ],
   "source": [
    "df[df['Item'].str.contains('Rice')]"
   ]
  },
  {
   "cell_type": "code",
   "execution_count": 69,
   "id": "06b25337-6984-4084-b1ab-8c1ad82448a5",
   "metadata": {},
   "outputs": [
    {
     "data": {
      "text/html": [
       "<div>\n",
       "<style scoped>\n",
       "    .dataframe tbody tr th:only-of-type {\n",
       "        vertical-align: middle;\n",
       "    }\n",
       "\n",
       "    .dataframe tbody tr th {\n",
       "        vertical-align: top;\n",
       "    }\n",
       "\n",
       "    .dataframe thead th {\n",
       "        text-align: right;\n",
       "    }\n",
       "</style>\n",
       "<table border=\"1\" class=\"dataframe\">\n",
       "  <thead>\n",
       "    <tr style=\"text-align: right;\">\n",
       "      <th></th>\n",
       "      <th>Price</th>\n",
       "    </tr>\n",
       "    <tr>\n",
       "      <th>Item</th>\n",
       "      <th></th>\n",
       "    </tr>\n",
       "  </thead>\n",
       "  <tbody>\n",
       "    <tr>\n",
       "      <th>Frozen chicken, 1 unit</th>\n",
       "      <td>4829.13</td>\n",
       "    </tr>\n",
       "    <tr>\n",
       "      <th>Beef, boneless, 1kgS</th>\n",
       "      <td>4711.65</td>\n",
       "    </tr>\n",
       "    <tr>\n",
       "      <th>Rice, medium grained, 1kg</th>\n",
       "      <td>1535.83</td>\n",
       "    </tr>\n",
       "    <tr>\n",
       "      <th>Rice, agric, sold loose,1 kg</th>\n",
       "      <td>1487.91</td>\n",
       "    </tr>\n",
       "    <tr>\n",
       "      <th>Irish potato, 1kg</th>\n",
       "      <td>1413.57</td>\n",
       "    </tr>\n",
       "    <tr>\n",
       "      <th>Rice, local, sold loose, 1kg</th>\n",
       "      <td>1399.34</td>\n",
       "    </tr>\n",
       "    <tr>\n",
       "      <th>Beans brown, sold loose, 1kg</th>\n",
       "      <td>1387.90</td>\n",
       "    </tr>\n",
       "    <tr>\n",
       "      <th>Beans, white black eye, sold loose, 1kg</th>\n",
       "      <td>1313.48</td>\n",
       "    </tr>\n",
       "    <tr>\n",
       "      <th>Bread sliced 500g</th>\n",
       "      <td>1141.36</td>\n",
       "    </tr>\n",
       "    <tr>\n",
       "      <th>Yam tuber, 1kg</th>\n",
       "      <td>1130.37</td>\n",
       "    </tr>\n",
       "    <tr>\n",
       "      <th>Tomato 1kg</th>\n",
       "      <td>1123.41</td>\n",
       "    </tr>\n",
       "    <tr>\n",
       "      <th>Bread unsliced 500g</th>\n",
       "      <td>1092.40</td>\n",
       "    </tr>\n",
       "    <tr>\n",
       "      <th>Onion bulb, 1kg</th>\n",
       "      <td>1018.83</td>\n",
       "    </tr>\n",
       "    <tr>\n",
       "      <th>Plantain (ripe), 1kg</th>\n",
       "      <td>1009.05</td>\n",
       "    </tr>\n",
       "    <tr>\n",
       "      <th>Plantain (unripe), 1kg</th>\n",
       "      <td>1000.41</td>\n",
       "    </tr>\n",
       "    <tr>\n",
       "      <th>Gari yellow, sold loose, 1kg</th>\n",
       "      <td>909.77</td>\n",
       "    </tr>\n",
       "    <tr>\n",
       "      <th>Gari white, sold loose, 1kg</th>\n",
       "      <td>851.81</td>\n",
       "    </tr>\n",
       "    <tr>\n",
       "      <th>Sweet potato, 1kg</th>\n",
       "      <td>807.35</td>\n",
       "    </tr>\n",
       "    <tr>\n",
       "      <th>Maize grain yellow sold loose, 1kg</th>\n",
       "      <td>798.53</td>\n",
       "    </tr>\n",
       "    <tr>\n",
       "      <th>Maize grain white sold loose, 1kg</th>\n",
       "      <td>797.61</td>\n",
       "    </tr>\n",
       "    <tr>\n",
       "      <th>Evaporated tinned milk (peak), 170g</th>\n",
       "      <td>725.74</td>\n",
       "    </tr>\n",
       "    <tr>\n",
       "      <th>Evaporated tinned milk carnation 170g</th>\n",
       "      <td>643.11</td>\n",
       "    </tr>\n",
       "    <tr>\n",
       "      <th>Agric eggs (medium size price of one), 1 piece</th>\n",
       "      <td>150.85</td>\n",
       "    </tr>\n",
       "    <tr>\n",
       "      <th>Groundnut oil, 1 bottle, 1l</th>\n",
       "      <td>2231.82</td>\n",
       "    </tr>\n",
       "  </tbody>\n",
       "</table>\n",
       "</div>"
      ],
      "text/plain": [
       "                                                  Price\n",
       "Item                                                   \n",
       "Frozen chicken, 1 unit                          4829.13\n",
       "Beef, boneless, 1kgS                            4711.65\n",
       "Rice, medium grained, 1kg                       1535.83\n",
       "Rice, agric, sold loose,1 kg                    1487.91\n",
       "Irish potato, 1kg                               1413.57\n",
       "Rice, local, sold loose, 1kg                    1399.34\n",
       "Beans brown, sold loose, 1kg                    1387.90\n",
       "Beans, white black eye, sold loose, 1kg         1313.48\n",
       "Bread sliced 500g                               1141.36\n",
       "Yam tuber, 1kg                                  1130.37\n",
       "Tomato 1kg                                      1123.41\n",
       "Bread unsliced 500g                             1092.40\n",
       "Onion bulb, 1kg                                 1018.83\n",
       "Plantain (ripe), 1kg                            1009.05\n",
       "Plantain (unripe), 1kg                          1000.41\n",
       "Gari yellow, sold loose, 1kg                     909.77\n",
       "Gari white, sold loose, 1kg                      851.81\n",
       "Sweet potato, 1kg                                807.35\n",
       "Maize grain yellow sold loose, 1kg               798.53\n",
       "Maize grain white sold loose, 1kg                797.61\n",
       "Evaporated tinned milk (peak), 170g              725.74\n",
       "Evaporated tinned milk carnation 170g            643.11\n",
       "Agric eggs (medium size price of one), 1 piece   150.85\n",
       "Groundnut oil, 1 bottle, 1l                     2231.82"
      ]
     },
     "execution_count": 69,
     "metadata": {},
     "output_type": "execute_result"
    }
   ],
   "source": [
    "df2 = df.set_index('Item')\n",
    "df2"
   ]
  },
  {
   "cell_type": "code",
   "execution_count": 71,
   "id": "9c47849f-0c5f-422a-b151-a0eb027ba8a5",
   "metadata": {},
   "outputs": [
    {
     "data": {
      "text/html": [
       "<div>\n",
       "<style scoped>\n",
       "    .dataframe tbody tr th:only-of-type {\n",
       "        vertical-align: middle;\n",
       "    }\n",
       "\n",
       "    .dataframe tbody tr th {\n",
       "        vertical-align: top;\n",
       "    }\n",
       "\n",
       "    .dataframe thead th {\n",
       "        text-align: right;\n",
       "    }\n",
       "</style>\n",
       "<table border=\"1\" class=\"dataframe\">\n",
       "  <thead>\n",
       "    <tr style=\"text-align: right;\">\n",
       "      <th></th>\n",
       "    </tr>\n",
       "    <tr>\n",
       "      <th>Item</th>\n",
       "    </tr>\n",
       "  </thead>\n",
       "  <tbody>\n",
       "    <tr>\n",
       "      <th>Frozen chicken, 1 unit</th>\n",
       "    </tr>\n",
       "    <tr>\n",
       "      <th>Beef, boneless, 1kgS</th>\n",
       "    </tr>\n",
       "    <tr>\n",
       "      <th>Rice, medium grained, 1kg</th>\n",
       "    </tr>\n",
       "    <tr>\n",
       "      <th>Rice, agric, sold loose,1 kg</th>\n",
       "    </tr>\n",
       "    <tr>\n",
       "      <th>Irish potato, 1kg</th>\n",
       "    </tr>\n",
       "    <tr>\n",
       "      <th>Rice, local, sold loose, 1kg</th>\n",
       "    </tr>\n",
       "    <tr>\n",
       "      <th>Beans brown, sold loose, 1kg</th>\n",
       "    </tr>\n",
       "    <tr>\n",
       "      <th>Beans, white black eye, sold loose, 1kg</th>\n",
       "    </tr>\n",
       "    <tr>\n",
       "      <th>Bread sliced 500g</th>\n",
       "    </tr>\n",
       "    <tr>\n",
       "      <th>Yam tuber, 1kg</th>\n",
       "    </tr>\n",
       "    <tr>\n",
       "      <th>Tomato 1kg</th>\n",
       "    </tr>\n",
       "    <tr>\n",
       "      <th>Bread unsliced 500g</th>\n",
       "    </tr>\n",
       "    <tr>\n",
       "      <th>Onion bulb, 1kg</th>\n",
       "    </tr>\n",
       "    <tr>\n",
       "      <th>Plantain (ripe), 1kg</th>\n",
       "    </tr>\n",
       "    <tr>\n",
       "      <th>Plantain (unripe), 1kg</th>\n",
       "    </tr>\n",
       "    <tr>\n",
       "      <th>Gari yellow, sold loose, 1kg</th>\n",
       "    </tr>\n",
       "    <tr>\n",
       "      <th>Gari white, sold loose, 1kg</th>\n",
       "    </tr>\n",
       "    <tr>\n",
       "      <th>Sweet potato, 1kg</th>\n",
       "    </tr>\n",
       "    <tr>\n",
       "      <th>Maize grain yellow sold loose, 1kg</th>\n",
       "    </tr>\n",
       "    <tr>\n",
       "      <th>Maize grain white sold loose, 1kg</th>\n",
       "    </tr>\n",
       "    <tr>\n",
       "      <th>Evaporated tinned milk (peak), 170g</th>\n",
       "    </tr>\n",
       "    <tr>\n",
       "      <th>Evaporated tinned milk carnation 170g</th>\n",
       "    </tr>\n",
       "    <tr>\n",
       "      <th>Agric eggs (medium size price of one), 1 piece</th>\n",
       "    </tr>\n",
       "    <tr>\n",
       "      <th>Groundnut oil, 1 bottle, 1l</th>\n",
       "    </tr>\n",
       "  </tbody>\n",
       "</table>\n",
       "</div>"
      ],
      "text/plain": [
       "Empty DataFrame\n",
       "Columns: []\n",
       "Index: [Frozen chicken, 1 unit, Beef, boneless, 1kgS, Rice, medium grained, 1kg, Rice, agric, sold loose,1 kg, Irish potato, 1kg, Rice, local, sold loose, 1kg, Beans brown, sold loose, 1kg, Beans, white black eye, sold loose, 1kg, Bread sliced 500g, Yam tuber, 1kg, Tomato 1kg, Bread unsliced 500g, Onion bulb, 1kg, Plantain (ripe), 1kg, Plantain (unripe), 1kg, Gari yellow, sold loose, 1kg, Gari white, sold loose, 1kg, Sweet potato, 1kg, Maize grain yellow sold loose, 1kg, Maize grain white sold loose, 1kg, Evaporated tinned milk (peak), 170g, Evaporated tinned milk carnation 170g, Agric eggs (medium size price of one), 1 piece, Groundnut oil, 1 bottle, 1l]"
      ]
     },
     "execution_count": 71,
     "metadata": {},
     "output_type": "execute_result"
    }
   ],
   "source": [
    "df2.filter(items=['Item'])"
   ]
  },
  {
   "cell_type": "code",
   "execution_count": 73,
   "id": "e78dae9e-8c85-4997-acd3-3c3736dd3da6",
   "metadata": {},
   "outputs": [
    {
     "data": {
      "text/html": [
       "<div>\n",
       "<style scoped>\n",
       "    .dataframe tbody tr th:only-of-type {\n",
       "        vertical-align: middle;\n",
       "    }\n",
       "\n",
       "    .dataframe tbody tr th {\n",
       "        vertical-align: top;\n",
       "    }\n",
       "\n",
       "    .dataframe thead th {\n",
       "        text-align: right;\n",
       "    }\n",
       "</style>\n",
       "<table border=\"1\" class=\"dataframe\">\n",
       "  <thead>\n",
       "    <tr style=\"text-align: right;\">\n",
       "      <th></th>\n",
       "    </tr>\n",
       "    <tr>\n",
       "      <th>Item</th>\n",
       "    </tr>\n",
       "  </thead>\n",
       "  <tbody>\n",
       "    <tr>\n",
       "      <th>Frozen chicken, 1 unit</th>\n",
       "    </tr>\n",
       "    <tr>\n",
       "      <th>Beef, boneless, 1kgS</th>\n",
       "    </tr>\n",
       "    <tr>\n",
       "      <th>Rice, medium grained, 1kg</th>\n",
       "    </tr>\n",
       "    <tr>\n",
       "      <th>Rice, agric, sold loose,1 kg</th>\n",
       "    </tr>\n",
       "    <tr>\n",
       "      <th>Irish potato, 1kg</th>\n",
       "    </tr>\n",
       "    <tr>\n",
       "      <th>Rice, local, sold loose, 1kg</th>\n",
       "    </tr>\n",
       "    <tr>\n",
       "      <th>Beans brown, sold loose, 1kg</th>\n",
       "    </tr>\n",
       "    <tr>\n",
       "      <th>Beans, white black eye, sold loose, 1kg</th>\n",
       "    </tr>\n",
       "    <tr>\n",
       "      <th>Bread sliced 500g</th>\n",
       "    </tr>\n",
       "    <tr>\n",
       "      <th>Yam tuber, 1kg</th>\n",
       "    </tr>\n",
       "    <tr>\n",
       "      <th>Tomato 1kg</th>\n",
       "    </tr>\n",
       "    <tr>\n",
       "      <th>Bread unsliced 500g</th>\n",
       "    </tr>\n",
       "    <tr>\n",
       "      <th>Onion bulb, 1kg</th>\n",
       "    </tr>\n",
       "    <tr>\n",
       "      <th>Plantain (ripe), 1kg</th>\n",
       "    </tr>\n",
       "    <tr>\n",
       "      <th>Plantain (unripe), 1kg</th>\n",
       "    </tr>\n",
       "    <tr>\n",
       "      <th>Gari yellow, sold loose, 1kg</th>\n",
       "    </tr>\n",
       "    <tr>\n",
       "      <th>Gari white, sold loose, 1kg</th>\n",
       "    </tr>\n",
       "    <tr>\n",
       "      <th>Sweet potato, 1kg</th>\n",
       "    </tr>\n",
       "    <tr>\n",
       "      <th>Maize grain yellow sold loose, 1kg</th>\n",
       "    </tr>\n",
       "    <tr>\n",
       "      <th>Maize grain white sold loose, 1kg</th>\n",
       "    </tr>\n",
       "    <tr>\n",
       "      <th>Evaporated tinned milk (peak), 170g</th>\n",
       "    </tr>\n",
       "    <tr>\n",
       "      <th>Evaporated tinned milk carnation 170g</th>\n",
       "    </tr>\n",
       "    <tr>\n",
       "      <th>Agric eggs (medium size price of one), 1 piece</th>\n",
       "    </tr>\n",
       "    <tr>\n",
       "      <th>Groundnut oil, 1 bottle, 1l</th>\n",
       "    </tr>\n",
       "  </tbody>\n",
       "</table>\n",
       "</div>"
      ],
      "text/plain": [
       "Empty DataFrame\n",
       "Columns: []\n",
       "Index: [Frozen chicken, 1 unit, Beef, boneless, 1kgS, Rice, medium grained, 1kg, Rice, agric, sold loose,1 kg, Irish potato, 1kg, Rice, local, sold loose, 1kg, Beans brown, sold loose, 1kg, Beans, white black eye, sold loose, 1kg, Bread sliced 500g, Yam tuber, 1kg, Tomato 1kg, Bread unsliced 500g, Onion bulb, 1kg, Plantain (ripe), 1kg, Plantain (unripe), 1kg, Gari yellow, sold loose, 1kg, Gari white, sold loose, 1kg, Sweet potato, 1kg, Maize grain yellow sold loose, 1kg, Maize grain white sold loose, 1kg, Evaporated tinned milk (peak), 170g, Evaporated tinned milk carnation 170g, Agric eggs (medium size price of one), 1 piece, Groundnut oil, 1 bottle, 1l]"
      ]
     },
     "execution_count": 73,
     "metadata": {},
     "output_type": "execute_result"
    }
   ],
   "source": [
    "df2.filter(items=['Item'],axis=1)"
   ]
  },
  {
   "cell_type": "code",
   "execution_count": 75,
   "id": "1313d092-2d59-462f-840d-c75d259d6644",
   "metadata": {},
   "outputs": [
    {
     "data": {
      "text/html": [
       "<div>\n",
       "<style scoped>\n",
       "    .dataframe tbody tr th:only-of-type {\n",
       "        vertical-align: middle;\n",
       "    }\n",
       "\n",
       "    .dataframe tbody tr th {\n",
       "        vertical-align: top;\n",
       "    }\n",
       "\n",
       "    .dataframe thead th {\n",
       "        text-align: right;\n",
       "    }\n",
       "</style>\n",
       "<table border=\"1\" class=\"dataframe\">\n",
       "  <thead>\n",
       "    <tr style=\"text-align: right;\">\n",
       "      <th></th>\n",
       "      <th>Price</th>\n",
       "    </tr>\n",
       "  </thead>\n",
       "  <tbody>\n",
       "  </tbody>\n",
       "</table>\n",
       "</div>"
      ],
      "text/plain": [
       "Empty DataFrame\n",
       "Columns: [Price]\n",
       "Index: []"
      ]
     },
     "execution_count": 75,
     "metadata": {},
     "output_type": "execute_result"
    }
   ],
   "source": [
    "df2.filter(items=['Item'],axis=0)"
   ]
  },
  {
   "cell_type": "code",
   "execution_count": 79,
   "id": "7d909bc4-8bc2-45a3-a058-f2d2da622b0e",
   "metadata": {},
   "outputs": [
    {
     "data": {
      "text/html": [
       "<div>\n",
       "<style scoped>\n",
       "    .dataframe tbody tr th:only-of-type {\n",
       "        vertical-align: middle;\n",
       "    }\n",
       "\n",
       "    .dataframe tbody tr th {\n",
       "        vertical-align: top;\n",
       "    }\n",
       "\n",
       "    .dataframe thead th {\n",
       "        text-align: right;\n",
       "    }\n",
       "</style>\n",
       "<table border=\"1\" class=\"dataframe\">\n",
       "  <thead>\n",
       "    <tr style=\"text-align: right;\">\n",
       "      <th></th>\n",
       "      <th>Price</th>\n",
       "    </tr>\n",
       "  </thead>\n",
       "  <tbody>\n",
       "    <tr>\n",
       "      <th>Maize grain white sold loose, 1kg</th>\n",
       "      <td>797.61</td>\n",
       "    </tr>\n",
       "  </tbody>\n",
       "</table>\n",
       "</div>"
      ],
      "text/plain": [
       "                                    Price\n",
       "Maize grain white sold loose, 1kg  797.61"
      ]
     },
     "execution_count": 79,
     "metadata": {},
     "output_type": "execute_result"
    }
   ],
   "source": [
    "df2.filter(items=['Maize grain white sold loose, 1kg'],axis=0)"
   ]
  },
  {
   "cell_type": "code",
   "execution_count": 81,
   "id": "694b5c67-ca62-4cd2-95b5-e5371c0a4b05",
   "metadata": {},
   "outputs": [
    {
     "data": {
      "text/html": [
       "<div>\n",
       "<style scoped>\n",
       "    .dataframe tbody tr th:only-of-type {\n",
       "        vertical-align: middle;\n",
       "    }\n",
       "\n",
       "    .dataframe tbody tr th {\n",
       "        vertical-align: top;\n",
       "    }\n",
       "\n",
       "    .dataframe thead th {\n",
       "        text-align: right;\n",
       "    }\n",
       "</style>\n",
       "<table border=\"1\" class=\"dataframe\">\n",
       "  <thead>\n",
       "    <tr style=\"text-align: right;\">\n",
       "      <th></th>\n",
       "      <th>Price</th>\n",
       "    </tr>\n",
       "    <tr>\n",
       "      <th>Item</th>\n",
       "      <th></th>\n",
       "    </tr>\n",
       "  </thead>\n",
       "  <tbody>\n",
       "    <tr>\n",
       "      <th>Rice, medium grained, 1kg</th>\n",
       "      <td>1535.83</td>\n",
       "    </tr>\n",
       "    <tr>\n",
       "      <th>Rice, agric, sold loose,1 kg</th>\n",
       "      <td>1487.91</td>\n",
       "    </tr>\n",
       "    <tr>\n",
       "      <th>Rice, local, sold loose, 1kg</th>\n",
       "      <td>1399.34</td>\n",
       "    </tr>\n",
       "  </tbody>\n",
       "</table>\n",
       "</div>"
      ],
      "text/plain": [
       "                                Price\n",
       "Item                                 \n",
       "Rice, medium grained, 1kg     1535.83\n",
       "Rice, agric, sold loose,1 kg  1487.91\n",
       "Rice, local, sold loose, 1kg  1399.34"
      ]
     },
     "execution_count": 81,
     "metadata": {},
     "output_type": "execute_result"
    }
   ],
   "source": [
    "df2.filter(like ='Rice',axis = 0)"
   ]
  },
  {
   "cell_type": "code",
   "execution_count": 83,
   "id": "df017c08-26fe-4e15-ab95-f65494460e59",
   "metadata": {},
   "outputs": [
    {
     "data": {
      "text/html": [
       "<div>\n",
       "<style scoped>\n",
       "    .dataframe tbody tr th:only-of-type {\n",
       "        vertical-align: middle;\n",
       "    }\n",
       "\n",
       "    .dataframe tbody tr th {\n",
       "        vertical-align: top;\n",
       "    }\n",
       "\n",
       "    .dataframe thead th {\n",
       "        text-align: right;\n",
       "    }\n",
       "</style>\n",
       "<table border=\"1\" class=\"dataframe\">\n",
       "  <thead>\n",
       "    <tr style=\"text-align: right;\">\n",
       "      <th></th>\n",
       "      <th>Item</th>\n",
       "      <th>Price</th>\n",
       "    </tr>\n",
       "  </thead>\n",
       "  <tbody>\n",
       "    <tr>\n",
       "      <th>0</th>\n",
       "      <td>Frozen chicken, 1 unit</td>\n",
       "      <td>4829.13</td>\n",
       "    </tr>\n",
       "    <tr>\n",
       "      <th>1</th>\n",
       "      <td>Beef, boneless, 1kgS</td>\n",
       "      <td>4711.65</td>\n",
       "    </tr>\n",
       "    <tr>\n",
       "      <th>2</th>\n",
       "      <td>Rice, medium grained, 1kg</td>\n",
       "      <td>1535.83</td>\n",
       "    </tr>\n",
       "    <tr>\n",
       "      <th>3</th>\n",
       "      <td>Rice, agric, sold loose,1 kg</td>\n",
       "      <td>1487.91</td>\n",
       "    </tr>\n",
       "    <tr>\n",
       "      <th>4</th>\n",
       "      <td>Irish potato, 1kg</td>\n",
       "      <td>1413.57</td>\n",
       "    </tr>\n",
       "    <tr>\n",
       "      <th>5</th>\n",
       "      <td>Rice, local, sold loose, 1kg</td>\n",
       "      <td>1399.34</td>\n",
       "    </tr>\n",
       "    <tr>\n",
       "      <th>6</th>\n",
       "      <td>Beans brown, sold loose, 1kg</td>\n",
       "      <td>1387.90</td>\n",
       "    </tr>\n",
       "    <tr>\n",
       "      <th>7</th>\n",
       "      <td>Beans, white black eye, sold loose, 1kg</td>\n",
       "      <td>1313.48</td>\n",
       "    </tr>\n",
       "    <tr>\n",
       "      <th>8</th>\n",
       "      <td>Bread sliced 500g</td>\n",
       "      <td>1141.36</td>\n",
       "    </tr>\n",
       "    <tr>\n",
       "      <th>9</th>\n",
       "      <td>Yam tuber, 1kg</td>\n",
       "      <td>1130.37</td>\n",
       "    </tr>\n",
       "    <tr>\n",
       "      <th>10</th>\n",
       "      <td>Tomato 1kg</td>\n",
       "      <td>1123.41</td>\n",
       "    </tr>\n",
       "    <tr>\n",
       "      <th>11</th>\n",
       "      <td>Bread unsliced 500g</td>\n",
       "      <td>1092.40</td>\n",
       "    </tr>\n",
       "    <tr>\n",
       "      <th>12</th>\n",
       "      <td>Onion bulb, 1kg</td>\n",
       "      <td>1018.83</td>\n",
       "    </tr>\n",
       "    <tr>\n",
       "      <th>13</th>\n",
       "      <td>Plantain (ripe), 1kg</td>\n",
       "      <td>1009.05</td>\n",
       "    </tr>\n",
       "    <tr>\n",
       "      <th>14</th>\n",
       "      <td>Plantain (unripe), 1kg</td>\n",
       "      <td>1000.41</td>\n",
       "    </tr>\n",
       "    <tr>\n",
       "      <th>15</th>\n",
       "      <td>Gari yellow, sold loose, 1kg</td>\n",
       "      <td>909.77</td>\n",
       "    </tr>\n",
       "    <tr>\n",
       "      <th>16</th>\n",
       "      <td>Gari white, sold loose, 1kg</td>\n",
       "      <td>851.81</td>\n",
       "    </tr>\n",
       "    <tr>\n",
       "      <th>17</th>\n",
       "      <td>Sweet potato, 1kg</td>\n",
       "      <td>807.35</td>\n",
       "    </tr>\n",
       "    <tr>\n",
       "      <th>18</th>\n",
       "      <td>Maize grain yellow sold loose, 1kg</td>\n",
       "      <td>798.53</td>\n",
       "    </tr>\n",
       "    <tr>\n",
       "      <th>19</th>\n",
       "      <td>Maize grain white sold loose, 1kg</td>\n",
       "      <td>797.61</td>\n",
       "    </tr>\n",
       "    <tr>\n",
       "      <th>20</th>\n",
       "      <td>Evaporated tinned milk (peak), 170g</td>\n",
       "      <td>725.74</td>\n",
       "    </tr>\n",
       "    <tr>\n",
       "      <th>21</th>\n",
       "      <td>Evaporated tinned milk carnation 170g</td>\n",
       "      <td>643.11</td>\n",
       "    </tr>\n",
       "    <tr>\n",
       "      <th>22</th>\n",
       "      <td>Agric eggs (medium size price of one), 1 piece</td>\n",
       "      <td>150.85</td>\n",
       "    </tr>\n",
       "    <tr>\n",
       "      <th>23</th>\n",
       "      <td>Groundnut oil, 1 bottle, 1l</td>\n",
       "      <td>2231.82</td>\n",
       "    </tr>\n",
       "  </tbody>\n",
       "</table>\n",
       "</div>"
      ],
      "text/plain": [
       "                                              Item    Price\n",
       "0                           Frozen chicken, 1 unit  4829.13\n",
       "1                             Beef, boneless, 1kgS  4711.65\n",
       "2                        Rice, medium grained, 1kg  1535.83\n",
       "3                     Rice, agric, sold loose,1 kg  1487.91\n",
       "4                                Irish potato, 1kg  1413.57\n",
       "5                     Rice, local, sold loose, 1kg  1399.34\n",
       "6                     Beans brown, sold loose, 1kg  1387.90\n",
       "7          Beans, white black eye, sold loose, 1kg  1313.48\n",
       "8                                Bread sliced 500g  1141.36\n",
       "9                                   Yam tuber, 1kg  1130.37\n",
       "10                                      Tomato 1kg  1123.41\n",
       "11                             Bread unsliced 500g  1092.40\n",
       "12                                 Onion bulb, 1kg  1018.83\n",
       "13                            Plantain (ripe), 1kg  1009.05\n",
       "14                          Plantain (unripe), 1kg  1000.41\n",
       "15                    Gari yellow, sold loose, 1kg   909.77\n",
       "16                     Gari white, sold loose, 1kg   851.81\n",
       "17                               Sweet potato, 1kg   807.35\n",
       "18              Maize grain yellow sold loose, 1kg   798.53\n",
       "19               Maize grain white sold loose, 1kg   797.61\n",
       "20             Evaporated tinned milk (peak), 170g   725.74\n",
       "21           Evaporated tinned milk carnation 170g   643.11\n",
       "22  Agric eggs (medium size price of one), 1 piece   150.85\n",
       "23                     Groundnut oil, 1 bottle, 1l  2231.82"
      ]
     },
     "execution_count": 83,
     "metadata": {},
     "output_type": "execute_result"
    }
   ],
   "source": [
    "df"
   ]
  },
  {
   "cell_type": "code",
   "execution_count": null,
   "id": "9d00287a-b8d2-451c-b2ef-d66c50b0cee4",
   "metadata": {},
   "outputs": [],
   "source": []
  }
 ],
 "metadata": {
  "kernelspec": {
   "display_name": "Python 3 (ipykernel)",
   "language": "python",
   "name": "python3"
  },
  "language_info": {
   "codemirror_mode": {
    "name": "ipython",
    "version": 3
   },
   "file_extension": ".py",
   "mimetype": "text/x-python",
   "name": "python",
   "nbconvert_exporter": "python",
   "pygments_lexer": "ipython3",
   "version": "3.12.4"
  }
 },
 "nbformat": 4,
 "nbformat_minor": 5
}
